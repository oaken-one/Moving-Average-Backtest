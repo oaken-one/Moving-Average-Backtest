{
 "cells": [
  {
   "cell_type": "code",
   "execution_count": 2,
   "id": "617ef060",
   "metadata": {},
   "outputs": [],
   "source": [
    "import yfinance as yf\n",
    "import pandas as pd\n",
    "from pandas_datareader import data as pdr\n",
    "import matplotlib.pyplot as plt"
   ]
  },
  {
   "cell_type": "code",
   "execution_count": null,
   "id": "37c05d47",
   "metadata": {},
   "outputs": [],
   "source": [
    "# --- Step 1: Data Retrieval ---\n",
    "\"\"\"Gold, Silver, Crude Oil, Natural Gas, Copper, Energy, Materials, Financials,\n",
    "    Industrials, Technology, Consumer Staples, Real Estate, Utilities, \n",
    "    Health Care, Consumer Discretionary, Communication Services (post-2018, limited history)\"\"\"\n",
    "\n",
    "tickers = [\"GC=F\", \"SI=F\", \"CL=F\", \"NG=F\", \"HG=F\", \"XLE\", \"XLB\", \"XLF\",\n",
    "           \"XLI\", \"XLK\", \"XLP\", \"XLRE\", \"XLU\", \"XLV\", \"XLY\", \"XLC\"]\n",
    "\n",
    "prices = yf.download(tickers, start=\"1900-01-01\", auto_adjust=True)[\"Adj Close\"]"
   ]
  }
 ],
 "metadata": {
  "kernelspec": {
   "display_name": "new",
   "language": "python",
   "name": "python3"
  },
  "language_info": {
   "codemirror_mode": {
    "name": "ipython",
    "version": 3
   },
   "file_extension": ".py",
   "mimetype": "text/x-python",
   "name": "python",
   "nbconvert_exporter": "python",
   "pygments_lexer": "ipython3",
   "version": "3.11.2"
  }
 },
 "nbformat": 4,
 "nbformat_minor": 5
}
